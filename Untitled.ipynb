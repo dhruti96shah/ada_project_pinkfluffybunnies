{
 "cells": [
  {
   "cell_type": "code",
   "execution_count": 1,
   "metadata": {},
   "outputs": [],
   "source": [
    "%matplotlib inline\n",
    "import pandas as pd\n",
    "import numpy as np\n",
    "import matplotlib.pyplot as plt"
   ]
  },
  {
   "cell_type": "code",
   "execution_count": 2,
   "metadata": {},
   "outputs": [],
   "source": [
    "df1 = pd.read_csv('product.csv',index_col = 'PRODUCT_ID')\n",
    "df2 = pd.read_csv('coupon.csv')\n",
    "df2 = df2.drop_duplicates(keep='first')\n",
    "df3 = pd.read_csv('campaign_desc.csv')\n",
    "df4 = pd.read_csv('transaction_data.csv')\n",
    "df5 = pd.read_csv('hh_demographic.csv')"
   ]
  },
  {
   "cell_type": "code",
   "execution_count": 3,
   "metadata": {},
   "outputs": [
    {
     "data": {
      "text/html": [
       "<div>\n",
       "<style scoped>\n",
       "    .dataframe tbody tr th:only-of-type {\n",
       "        vertical-align: middle;\n",
       "    }\n",
       "\n",
       "    .dataframe tbody tr th {\n",
       "        vertical-align: top;\n",
       "    }\n",
       "\n",
       "    .dataframe thead th {\n",
       "        text-align: right;\n",
       "    }\n",
       "</style>\n",
       "<table border=\"1\" class=\"dataframe\">\n",
       "  <thead>\n",
       "    <tr style=\"text-align: right;\">\n",
       "      <th></th>\n",
       "      <th>BASKET_ID</th>\n",
       "      <th>DAY</th>\n",
       "      <th>PRODUCT_ID</th>\n",
       "      <th>QUANTITY</th>\n",
       "      <th>SALES_VALUE</th>\n",
       "      <th>STORE_ID</th>\n",
       "      <th>RETAIL_DISC</th>\n",
       "      <th>TRANS_TIME</th>\n",
       "      <th>WEEK_NO</th>\n",
       "      <th>COUPON_DISC</th>\n",
       "      <th>COUPON_MATCH_DISC</th>\n",
       "    </tr>\n",
       "    <tr>\n",
       "      <th>household_key</th>\n",
       "      <th></th>\n",
       "      <th></th>\n",
       "      <th></th>\n",
       "      <th></th>\n",
       "      <th></th>\n",
       "      <th></th>\n",
       "      <th></th>\n",
       "      <th></th>\n",
       "      <th></th>\n",
       "      <th></th>\n",
       "      <th></th>\n",
       "    </tr>\n",
       "  </thead>\n",
       "  <tbody>\n",
       "    <tr>\n",
       "      <th>718</th>\n",
       "      <td>6851</td>\n",
       "      <td>6851</td>\n",
       "      <td>6851</td>\n",
       "      <td>6851</td>\n",
       "      <td>6851</td>\n",
       "      <td>6851</td>\n",
       "      <td>6851</td>\n",
       "      <td>6851</td>\n",
       "      <td>6851</td>\n",
       "      <td>6851</td>\n",
       "      <td>6851</td>\n",
       "    </tr>\n",
       "    <tr>\n",
       "      <th>2459</th>\n",
       "      <td>6646</td>\n",
       "      <td>6646</td>\n",
       "      <td>6646</td>\n",
       "      <td>6646</td>\n",
       "      <td>6646</td>\n",
       "      <td>6646</td>\n",
       "      <td>6646</td>\n",
       "      <td>6646</td>\n",
       "      <td>6646</td>\n",
       "      <td>6646</td>\n",
       "      <td>6646</td>\n",
       "    </tr>\n",
       "    <tr>\n",
       "      <th>1609</th>\n",
       "      <td>6625</td>\n",
       "      <td>6625</td>\n",
       "      <td>6625</td>\n",
       "      <td>6625</td>\n",
       "      <td>6625</td>\n",
       "      <td>6625</td>\n",
       "      <td>6625</td>\n",
       "      <td>6625</td>\n",
       "      <td>6625</td>\n",
       "      <td>6625</td>\n",
       "      <td>6625</td>\n",
       "    </tr>\n",
       "    <tr>\n",
       "      <th>1111</th>\n",
       "      <td>6576</td>\n",
       "      <td>6576</td>\n",
       "      <td>6576</td>\n",
       "      <td>6576</td>\n",
       "      <td>6576</td>\n",
       "      <td>6576</td>\n",
       "      <td>6576</td>\n",
       "      <td>6576</td>\n",
       "      <td>6576</td>\n",
       "      <td>6576</td>\n",
       "      <td>6576</td>\n",
       "    </tr>\n",
       "    <tr>\n",
       "      <th>1453</th>\n",
       "      <td>6561</td>\n",
       "      <td>6561</td>\n",
       "      <td>6561</td>\n",
       "      <td>6561</td>\n",
       "      <td>6561</td>\n",
       "      <td>6561</td>\n",
       "      <td>6561</td>\n",
       "      <td>6561</td>\n",
       "      <td>6561</td>\n",
       "      <td>6561</td>\n",
       "      <td>6561</td>\n",
       "    </tr>\n",
       "    <tr>\n",
       "      <th>...</th>\n",
       "      <td>...</td>\n",
       "      <td>...</td>\n",
       "      <td>...</td>\n",
       "      <td>...</td>\n",
       "      <td>...</td>\n",
       "      <td>...</td>\n",
       "      <td>...</td>\n",
       "      <td>...</td>\n",
       "      <td>...</td>\n",
       "      <td>...</td>\n",
       "      <td>...</td>\n",
       "    </tr>\n",
       "    <tr>\n",
       "      <th>1626</th>\n",
       "      <td>8</td>\n",
       "      <td>8</td>\n",
       "      <td>8</td>\n",
       "      <td>8</td>\n",
       "      <td>8</td>\n",
       "      <td>8</td>\n",
       "      <td>8</td>\n",
       "      <td>8</td>\n",
       "      <td>8</td>\n",
       "      <td>8</td>\n",
       "      <td>8</td>\n",
       "    </tr>\n",
       "    <tr>\n",
       "      <th>1504</th>\n",
       "      <td>7</td>\n",
       "      <td>7</td>\n",
       "      <td>7</td>\n",
       "      <td>7</td>\n",
       "      <td>7</td>\n",
       "      <td>7</td>\n",
       "      <td>7</td>\n",
       "      <td>7</td>\n",
       "      <td>7</td>\n",
       "      <td>7</td>\n",
       "      <td>7</td>\n",
       "    </tr>\n",
       "    <tr>\n",
       "      <th>1830</th>\n",
       "      <td>7</td>\n",
       "      <td>7</td>\n",
       "      <td>7</td>\n",
       "      <td>7</td>\n",
       "      <td>7</td>\n",
       "      <td>7</td>\n",
       "      <td>7</td>\n",
       "      <td>7</td>\n",
       "      <td>7</td>\n",
       "      <td>7</td>\n",
       "      <td>7</td>\n",
       "    </tr>\n",
       "    <tr>\n",
       "      <th>1897</th>\n",
       "      <td>5</td>\n",
       "      <td>5</td>\n",
       "      <td>5</td>\n",
       "      <td>5</td>\n",
       "      <td>5</td>\n",
       "      <td>5</td>\n",
       "      <td>5</td>\n",
       "      <td>5</td>\n",
       "      <td>5</td>\n",
       "      <td>5</td>\n",
       "      <td>5</td>\n",
       "    </tr>\n",
       "    <tr>\n",
       "      <th>494</th>\n",
       "      <td>4</td>\n",
       "      <td>4</td>\n",
       "      <td>4</td>\n",
       "      <td>4</td>\n",
       "      <td>4</td>\n",
       "      <td>4</td>\n",
       "      <td>4</td>\n",
       "      <td>4</td>\n",
       "      <td>4</td>\n",
       "      <td>4</td>\n",
       "      <td>4</td>\n",
       "    </tr>\n",
       "  </tbody>\n",
       "</table>\n",
       "<p>2500 rows × 11 columns</p>\n",
       "</div>"
      ],
      "text/plain": [
       "               BASKET_ID   DAY  PRODUCT_ID  QUANTITY  SALES_VALUE  STORE_ID  \\\n",
       "household_key                                                                 \n",
       "718                 6851  6851        6851      6851         6851      6851   \n",
       "2459                6646  6646        6646      6646         6646      6646   \n",
       "1609                6625  6625        6625      6625         6625      6625   \n",
       "1111                6576  6576        6576      6576         6576      6576   \n",
       "1453                6561  6561        6561      6561         6561      6561   \n",
       "...                  ...   ...         ...       ...          ...       ...   \n",
       "1626                   8     8           8         8            8         8   \n",
       "1504                   7     7           7         7            7         7   \n",
       "1830                   7     7           7         7            7         7   \n",
       "1897                   5     5           5         5            5         5   \n",
       "494                    4     4           4         4            4         4   \n",
       "\n",
       "               RETAIL_DISC  TRANS_TIME  WEEK_NO  COUPON_DISC  \\\n",
       "household_key                                                  \n",
       "718                   6851        6851     6851         6851   \n",
       "2459                  6646        6646     6646         6646   \n",
       "1609                  6625        6625     6625         6625   \n",
       "1111                  6576        6576     6576         6576   \n",
       "1453                  6561        6561     6561         6561   \n",
       "...                    ...         ...      ...          ...   \n",
       "1626                     8           8        8            8   \n",
       "1504                     7           7        7            7   \n",
       "1830                     7           7        7            7   \n",
       "1897                     5           5        5            5   \n",
       "494                      4           4        4            4   \n",
       "\n",
       "               COUPON_MATCH_DISC  \n",
       "household_key                     \n",
       "718                         6851  \n",
       "2459                        6646  \n",
       "1609                        6625  \n",
       "1111                        6576  \n",
       "1453                        6561  \n",
       "...                          ...  \n",
       "1626                           8  \n",
       "1504                           7  \n",
       "1830                           7  \n",
       "1897                           5  \n",
       "494                            4  \n",
       "\n",
       "[2500 rows x 11 columns]"
      ]
     },
     "execution_count": 3,
     "metadata": {},
     "output_type": "execute_result"
    }
   ],
   "source": [
    "df4.groupby('household_key').count().sort_values('DAY',ascending=False)"
   ]
  },
  {
   "cell_type": "code",
   "execution_count": 4,
   "metadata": {},
   "outputs": [
    {
     "data": {
      "text/html": [
       "<div>\n",
       "<style scoped>\n",
       "    .dataframe tbody tr th:only-of-type {\n",
       "        vertical-align: middle;\n",
       "    }\n",
       "\n",
       "    .dataframe tbody tr th {\n",
       "        vertical-align: top;\n",
       "    }\n",
       "\n",
       "    .dataframe thead th {\n",
       "        text-align: right;\n",
       "    }\n",
       "</style>\n",
       "<table border=\"1\" class=\"dataframe\">\n",
       "  <thead>\n",
       "    <tr style=\"text-align: right;\">\n",
       "      <th></th>\n",
       "      <th>AGE_DESC</th>\n",
       "      <th>MARITAL_STATUS_CODE</th>\n",
       "      <th>INCOME_DESC</th>\n",
       "      <th>HOMEOWNER_DESC</th>\n",
       "      <th>HH_COMP_DESC</th>\n",
       "      <th>HOUSEHOLD_SIZE_DESC</th>\n",
       "      <th>KID_CATEGORY_DESC</th>\n",
       "      <th>household_key</th>\n",
       "    </tr>\n",
       "  </thead>\n",
       "  <tbody>\n",
       "    <tr>\n",
       "      <th>241</th>\n",
       "      <td>45-54</td>\n",
       "      <td>A</td>\n",
       "      <td>25-34K</td>\n",
       "      <td>Homeowner</td>\n",
       "      <td>2 Adults Kids</td>\n",
       "      <td>5+</td>\n",
       "      <td>3+</td>\n",
       "      <td>718</td>\n",
       "    </tr>\n",
       "  </tbody>\n",
       "</table>\n",
       "</div>"
      ],
      "text/plain": [
       "    AGE_DESC MARITAL_STATUS_CODE INCOME_DESC HOMEOWNER_DESC   HH_COMP_DESC  \\\n",
       "241    45-54                   A      25-34K      Homeowner  2 Adults Kids   \n",
       "\n",
       "    HOUSEHOLD_SIZE_DESC KID_CATEGORY_DESC  household_key  \n",
       "241                  5+                3+            718  "
      ]
     },
     "execution_count": 4,
     "metadata": {},
     "output_type": "execute_result"
    }
   ],
   "source": [
    "df5[df5['household_key']==718]"
   ]
  },
  {
   "cell_type": "markdown",
   "metadata": {},
   "source": [
    "### Spending of household 718\n",
    "1. Loyal to stores?\n",
    "2. Percentage of spending of different products\n",
    "3. Time/day highest spending\n",
    "4. Savings from coupons"
   ]
  },
  {
   "cell_type": "markdown",
   "metadata": {},
   "source": [
    "### The following analysis is to identify how the percentage of total spending isdivided among the various departments of products. We see that almost 50% of total spending is on groceries. We further try to analyse the spending on groceries."
   ]
  },
  {
   "cell_type": "code",
   "execution_count": 4,
   "metadata": {},
   "outputs": [],
   "source": [
    "tran = df4[df4['household_key']==718]"
   ]
  },
  {
   "cell_type": "code",
   "execution_count": 5,
   "metadata": {},
   "outputs": [
    {
     "name": "stderr",
     "output_type": "stream",
     "text": [
      "/home/pk/Softwares/anaconda3/lib/python3.7/site-packages/ipykernel_launcher.py:4: SettingWithCopyWarning: \n",
      "A value is trying to be set on a copy of a slice from a DataFrame.\n",
      "Try using .loc[row_indexer,col_indexer] = value instead\n",
      "\n",
      "See the caveats in the documentation: http://pandas.pydata.org/pandas-docs/stable/user_guide/indexing.html#returning-a-view-versus-a-copy\n",
      "  after removing the cwd from sys.path.\n"
     ]
    }
   ],
   "source": [
    "def calc_cust_price (row):\n",
    "    return (row['SALES_VALUE']+row['COUPON_DISC'])\n",
    "\n",
    "tran['CUST_PAY'] = tran.apply(lambda row: calc_cust_price(row), axis=1)"
   ]
  },
  {
   "cell_type": "code",
   "execution_count": 7,
   "metadata": {},
   "outputs": [],
   "source": [
    "tran1 = tran.drop(columns=['QUANTITY', 'SALES_VALUE', 'STORE_ID', 'RETAIL_DISC', \\\n",
    "                           'COUPON_DISC', 'COUPON_MATCH_DISC', 'BASKET_ID', 'household_key'])\n",
    "\n",
    "d = tran1.merge(df1, how='left', left_on='PRODUCT_ID', right_index=True).\\\n",
    "                groupby('DEPARTMENT').agg('sum').sort_values('CUST_PAY', ascending=False).drop(\" \", axis=0)\n",
    "\n",
    "d = d.drop(columns=['DAY', 'TRANS_TIME', 'WEEK_NO', 'PRODUCT_ID', 'MANUFACTURER'])"
   ]
  },
  {
   "cell_type": "code",
   "execution_count": 8,
   "metadata": {},
   "outputs": [],
   "source": [
    "d.loc['DELI']+= (d.loc['NUTRITION']+d.loc['SEAFOOD-PCKGD']+d.loc['SEAFOOD']+d.loc['PASTRY']\\\n",
    "                 +d.loc['SALAD BAR']+d.loc['COSMETICS']+d.loc['GARDEN CENTER']+d.loc['FLORAL']\\\n",
    "                 +d.loc['GM MERCH EXP']+d.loc['MISC. TRANS.']+d.loc['PHARMACY SUPPLY']+d.loc['CHEF SHOPPE'])\n",
    "\n",
    "d = d.drop(['NUTRITION','SEAFOOD-PCKGD','SEAFOOD','PASTRY','SALAD BAR','COSMETICS','GARDEN CENTER'\\\n",
    "       ,'FLORAL','GM MERCH EXP','MISC. TRANS.','PHARMACY SUPPLY','CHEF SHOPPE'])\n",
    "\n",
    "d = d.rename(index={'DELI': 'OTHERS'})"
   ]
  },
  {
   "cell_type": "code",
   "execution_count": 9,
   "metadata": {},
   "outputs": [
    {
     "data": {
      "text/plain": [
       "array(['GASOLINE-REG UNLEADED', 'MISC SALES TRANS',\n",
       "       'MISCELLANEOUS H & B AIDS', 'FLORAL DEPT KEY RING',\n",
       "       'DEA SCHEDULE C II', 'TICKETS', 'ELECTRONIC GIFT CARDS ACTIVATI',\n",
       "       'PRODUCE DEPT KEY RING', 'MEAT SUPPLIES',\n",
       "       'ELECTRONIC GIFT CARDS REFRESH', 'OUTSIDE VENDORS GIFT CARDS',\n",
       "       'AMERICAN EXPRESS GIFT CARD', 'MASTERCARD GIFT CARD'], dtype=object)"
      ]
     },
     "execution_count": 9,
     "metadata": {},
     "output_type": "execute_result"
    }
   ],
   "source": [
    "df1[df1['DEPARTMENT']=='MISC SALES TRAN']['SUB_COMMODITY_DESC'].unique()"
   ]
  },
  {
   "cell_type": "code",
   "execution_count": 10,
   "metadata": {},
   "outputs": [
    {
     "data": {
      "text/plain": [
       "([<matplotlib.patches.Wedge at 0x7f614ed5e210>,\n",
       "  <matplotlib.patches.Wedge at 0x7f614ed5e910>,\n",
       "  <matplotlib.patches.Wedge at 0x7f614ed6b4d0>,\n",
       "  <matplotlib.patches.Wedge at 0x7f614ed6bf90>,\n",
       "  <matplotlib.patches.Wedge at 0x7f614ed79cd0>,\n",
       "  <matplotlib.patches.Wedge at 0x7f614ed04590>,\n",
       "  <matplotlib.patches.Wedge at 0x7f614ed100d0>,\n",
       "  <matplotlib.patches.Wedge at 0x7f614ed10b10>],\n",
       " [Text(-1.0981014582086943, -0.0646002126926785, 'GROCERY'),\n",
       "  Text(0.5170312349256667, -0.970916423854927, 'DRUG GM'),\n",
       "  Text(0.9625744811156608, -0.5324005712853026, 'PRODUCE'),\n",
       "  Text(1.0924406415178127, -0.12873789170306532, 'MISC SALES TRAN'),\n",
       "  Text(1.0666895002070707, 0.26865127981826215, 'MEAT-PCKGD'),\n",
       "  Text(0.9112945049283566, 0.6160700652420806, 'KIOSK-GAS'),\n",
       "  Text(0.6661624021607816, 0.8753443059433113, 'MEAT'),\n",
       "  Text(0.26781901323196267, 1.0668987656527953, 'OTHERS')],\n",
       " [Text(-0.5989644317501969, -0.035236479650551905, '51.9%'),\n",
       "  Text(0.2820170372321818, -0.5295907766481419, '11.8%'),\n",
       "  Text(0.5250406260630877, -0.29040031161016505, '6.5%'),\n",
       "  Text(0.5958767135551705, -0.07022066820167198, '5.8%'),\n",
       "  Text(0.5818306364765838, 0.14653706171905206, '5.7%'),\n",
       "  Text(0.49706972996092175, 0.3360382174047712, '5.3%'),\n",
       "  Text(0.36336131026951723, 0.4774605305145333, '5.0%'),\n",
       "  Text(0.14608309812652506, 0.5819447812651609, '7.8%')])"
      ]
     },
     "execution_count": 10,
     "metadata": {},
     "output_type": "execute_result"
    },
    {
     "data": {
      "image/png": "[encoded data removed]",
      "text/plain": [
       "<Figure size 432x288 with 1 Axes>"
      ]
     },
     "metadata": {},
     "output_type": "display_data"
    }
   ],
   "source": [
    "#plot = d.plot.pie(y='CUST_PAY', figsize=(5, 5))\n",
    "plt.pie(d['CUST_PAY'], labels = d.index, autopct='%1.1f%%', shadow=True, startangle=90)"
   ]
  },
  {
   "cell_type": "code",
   "execution_count": 11,
   "metadata": {},
   "outputs": [],
   "source": [
    "#df1[df1['DEPARTMENT']=='GROCERY']['COMMODITY_DESC'].unique()"
   ]
  },
  {
   "cell_type": "code",
   "execution_count": 12,
   "metadata": {
    "scrolled": true
   },
   "outputs": [
    {
     "data": {
      "text/html": [
       "<div>\n",
       "<style scoped>\n",
       "    .dataframe tbody tr th:only-of-type {\n",
       "        vertical-align: middle;\n",
       "    }\n",
       "\n",
       "    .dataframe tbody tr th {\n",
       "        vertical-align: top;\n",
       "    }\n",
       "\n",
       "    .dataframe thead th {\n",
       "        text-align: right;\n",
       "    }\n",
       "</style>\n",
       "<table border=\"1\" class=\"dataframe\">\n",
       "  <thead>\n",
       "    <tr style=\"text-align: right;\">\n",
       "      <th></th>\n",
       "      <th>DAY</th>\n",
       "      <th>PRODUCT_ID</th>\n",
       "      <th>TRANS_TIME</th>\n",
       "      <th>WEEK_NO</th>\n",
       "      <th>CUST_PAY</th>\n",
       "      <th>MANUFACTURER</th>\n",
       "    </tr>\n",
       "    <tr>\n",
       "      <th>COMMODITY_DESC</th>\n",
       "      <th></th>\n",
       "      <th></th>\n",
       "      <th></th>\n",
       "      <th></th>\n",
       "      <th></th>\n",
       "      <th></th>\n",
       "    </tr>\n",
       "  </thead>\n",
       "  <tbody>\n",
       "    <tr>\n",
       "      <th>SOFT DRINKS</th>\n",
       "      <td>166139</td>\n",
       "      <td>1358572264</td>\n",
       "      <td>759239</td>\n",
       "      <td>24035</td>\n",
       "      <td>764.32</td>\n",
       "      <td>313807</td>\n",
       "    </tr>\n",
       "    <tr>\n",
       "      <th>FRZN MEAT/MEAT DINNERS</th>\n",
       "      <td>61146</td>\n",
       "      <td>407743417</td>\n",
       "      <td>302261</td>\n",
       "      <td>8865</td>\n",
       "      <td>643.79</td>\n",
       "      <td>238300</td>\n",
       "    </tr>\n",
       "    <tr>\n",
       "      <th>CHEESE</th>\n",
       "      <td>63766</td>\n",
       "      <td>194813915</td>\n",
       "      <td>288923</td>\n",
       "      <td>9240</td>\n",
       "      <td>504.48</td>\n",
       "      <td>22233</td>\n",
       "    </tr>\n",
       "    <tr>\n",
       "      <th>ICE CREAM/MILK/SHERBTS</th>\n",
       "      <td>45784</td>\n",
       "      <td>455620252</td>\n",
       "      <td>196082</td>\n",
       "      <td>6649</td>\n",
       "      <td>469.21</td>\n",
       "      <td>78554</td>\n",
       "    </tr>\n",
       "    <tr>\n",
       "      <th>FLUID MILK PRODUCTS</th>\n",
       "      <td>54563</td>\n",
       "      <td>297554240</td>\n",
       "      <td>257627</td>\n",
       "      <td>7911</td>\n",
       "      <td>431.01</td>\n",
       "      <td>32841</td>\n",
       "    </tr>\n",
       "    <tr>\n",
       "      <th>...</th>\n",
       "      <td>...</td>\n",
       "      <td>...</td>\n",
       "      <td>...</td>\n",
       "      <td>...</td>\n",
       "      <td>...</td>\n",
       "      <td>...</td>\n",
       "    </tr>\n",
       "    <tr>\n",
       "      <th>ISOTONIC DRINKS</th>\n",
       "      <td>3927</td>\n",
       "      <td>70202026</td>\n",
       "      <td>14705</td>\n",
       "      <td>568</td>\n",
       "      <td>9.36</td>\n",
       "      <td>11280</td>\n",
       "    </tr>\n",
       "    <tr>\n",
       "      <th>WAREHOUSE SNACKS</th>\n",
       "      <td>1534</td>\n",
       "      <td>20326910</td>\n",
       "      <td>8781</td>\n",
       "      <td>224</td>\n",
       "      <td>6.45</td>\n",
       "      <td>2879</td>\n",
       "    </tr>\n",
       "    <tr>\n",
       "      <th>SNACK NUTS</th>\n",
       "      <td>2204</td>\n",
       "      <td>35526955</td>\n",
       "      <td>12966</td>\n",
       "      <td>319</td>\n",
       "      <td>4.54</td>\n",
       "      <td>2383</td>\n",
       "    </tr>\n",
       "    <tr>\n",
       "      <th>COUPON/MISC ITEMS</th>\n",
       "      <td>378</td>\n",
       "      <td>3228168</td>\n",
       "      <td>5119</td>\n",
       "      <td>56</td>\n",
       "      <td>3.49</td>\n",
       "      <td>15</td>\n",
       "    </tr>\n",
       "    <tr>\n",
       "      <th>SYRUPS/TOPPINGS</th>\n",
       "      <td>114</td>\n",
       "      <td>871500</td>\n",
       "      <td>1928</td>\n",
       "      <td>17</td>\n",
       "      <td>1.79</td>\n",
       "      <td>693</td>\n",
       "    </tr>\n",
       "  </tbody>\n",
       "</table>\n",
       "<p>81 rows × 6 columns</p>\n",
       "</div>"
      ],
      "text/plain": [
       "                           DAY  PRODUCT_ID  TRANS_TIME  WEEK_NO  CUST_PAY  \\\n",
       "COMMODITY_DESC                                                              \n",
       "SOFT DRINKS             166139  1358572264      759239    24035    764.32   \n",
       "FRZN MEAT/MEAT DINNERS   61146   407743417      302261     8865    643.79   \n",
       "CHEESE                   63766   194813915      288923     9240    504.48   \n",
       "ICE CREAM/MILK/SHERBTS   45784   455620252      196082     6649    469.21   \n",
       "FLUID MILK PRODUCTS      54563   297554240      257627     7911    431.01   \n",
       "...                        ...         ...         ...      ...       ...   \n",
       "ISOTONIC DRINKS           3927    70202026       14705      568      9.36   \n",
       "WAREHOUSE SNACKS          1534    20326910        8781      224      6.45   \n",
       "SNACK NUTS                2204    35526955       12966      319      4.54   \n",
       "COUPON/MISC ITEMS          378     3228168        5119       56      3.49   \n",
       "SYRUPS/TOPPINGS            114      871500        1928       17      1.79   \n",
       "\n",
       "                        MANUFACTURER  \n",
       "COMMODITY_DESC                        \n",
       "SOFT DRINKS                   313807  \n",
       "FRZN MEAT/MEAT DINNERS        238300  \n",
       "CHEESE                         22233  \n",
       "ICE CREAM/MILK/SHERBTS         78554  \n",
       "FLUID MILK PRODUCTS            32841  \n",
       "...                              ...  \n",
       "ISOTONIC DRINKS                11280  \n",
       "WAREHOUSE SNACKS                2879  \n",
       "SNACK NUTS                      2383  \n",
       "COUPON/MISC ITEMS                 15  \n",
       "SYRUPS/TOPPINGS                  693  \n",
       "\n",
       "[81 rows x 6 columns]"
      ]
     },
     "execution_count": 12,
     "metadata": {},
     "output_type": "execute_result"
    }
   ],
   "source": [
    "groc = tran1.merge(df1, how='left', left_on='PRODUCT_ID', right_index=True)\n",
    "groc = groc[groc['DEPARTMENT']=='GROCERY']\n",
    "groc = groc.groupby('COMMODITY_DESC').agg('sum').sort_values('CUST_PAY',ascending=False)\n",
    "groc"
   ]
  },
  {
   "cell_type": "markdown",
   "metadata": {},
   "source": [
    "### The following analysis tries to observe how much money is saved by household by using coupons"
   ]
  },
  {
   "cell_type": "code",
   "execution_count": 13,
   "metadata": {},
   "outputs": [
    {
     "data": {
      "text/plain": [
       "18958.960000000217"
      ]
     },
     "execution_count": 13,
     "metadata": {},
     "output_type": "execute_result"
    }
   ],
   "source": [
    "sum(tran['CUST_PAY'])"
   ]
  },
  {
   "cell_type": "code",
   "execution_count": 14,
   "metadata": {
    "scrolled": true
   },
   "outputs": [
    {
     "data": {
      "text/plain": [
       "-340.90000000000015"
      ]
     },
     "execution_count": 14,
     "metadata": {},
     "output_type": "execute_result"
    }
   ],
   "source": [
    "sum(tran['COUPON_DISC'])"
   ]
  },
  {
   "cell_type": "markdown",
   "metadata": {},
   "source": [
    "### Day wise spending\n",
    "We see a peak approximately every 6-7 days, which seems to indicate that most of the shopping might be done on the weekends."
   ]
  },
  {
   "cell_type": "code",
   "execution_count": 15,
   "metadata": {},
   "outputs": [],
   "source": [
    "tran2 = tran.drop(columns=['QUANTITY', 'SALES_VALUE', 'STORE_ID', 'RETAIL_DISC', \\\n",
    "                           'COUPON_DISC', 'COUPON_MATCH_DISC', 'BASKET_ID', 'household_key', 'PRODUCT_ID'])"
   ]
  },
  {
   "cell_type": "code",
   "execution_count": 16,
   "metadata": {},
   "outputs": [
    {
     "data": {
      "text/plain": [
       "<matplotlib.axes._subplots.AxesSubplot at 0x7f617f99e0d0>"
      ]
     },
     "execution_count": 16,
     "metadata": {},
     "output_type": "execute_result"
    },
    {
     "data": {
      "image/png": "[encoded data removed]",
      "text/plain": [
       "<Figure size 432x288 with 1 Axes>"
      ]
     },
     "metadata": {
      "needs_background": "light"
     },
     "output_type": "display_data"
    }
   ],
   "source": [
    "tran2.groupby('DAY').agg('sum').plot(y='CUST_PAY')"
   ]
  },
  {
   "cell_type": "markdown",
   "metadata": {},
   "source": [
    "### Store loyalty\n",
    "Shows us that almost 86% spending is in one store, 12.4% in another and very less in the others.\n",
    "This tells us that the stores 324 and 327 are near their home."
   ]
  },
  {
   "cell_type": "code",
   "execution_count": 17,
   "metadata": {},
   "outputs": [],
   "source": [
    "tran3 = tran.drop(columns=['QUANTITY', 'SALES_VALUE', 'RETAIL_DISC', \\\n",
    "                           'COUPON_DISC', 'COUPON_MATCH_DISC', 'BASKET_ID', 'household_key', 'PRODUCT_ID'])"
   ]
  },
  {
   "cell_type": "code",
   "execution_count": 18,
   "metadata": {},
   "outputs": [],
   "source": [
    "store = tran3.groupby('STORE_ID').agg('sum')"
   ]
  },
  {
   "cell_type": "code",
   "execution_count": 19,
   "metadata": {
    "scrolled": true
   },
   "outputs": [
    {
     "data": {
      "text/plain": [
       "([<matplotlib.patches.Wedge at 0x7f614ec2cfd0>,\n",
       "  <matplotlib.patches.Wedge at 0x7f614ebb9990>,\n",
       "  <matplotlib.patches.Wedge at 0x7f614ebc24d0>,\n",
       "  <matplotlib.patches.Wedge at 0x7f614ebca090>,\n",
       "  <matplotlib.patches.Wedge at 0x7f614ebcadd0>,\n",
       "  <matplotlib.patches.Wedge at 0x7f614ebd5950>,\n",
       "  <matplotlib.patches.Wedge at 0x7f614ebe0290>],\n",
       " [Text(-0.9883317648898811, 0.4829081926304968, '324'),\n",
       "  Text(0.9552597269077733, -0.5454162210166532, '327'),\n",
       "  Text(1.0951761405488172, -0.10290394148232505, '330'),\n",
       "  Text(1.0981746572924673, -0.06334368224671184, '338'),\n",
       "  Text(1.0987188605846607, -0.05307414997477777, '369'),\n",
       "  Text(1.09928999683121, -0.039515855891511006, '406'),\n",
       "  Text(1.0998610588665243, -0.017482882743078982, '31782')],\n",
       " [Text(-0.5390900535762987, 0.26340446870754364, '85.5%'),\n",
       "  Text(0.5210507601315126, -0.29749975691817443, '12.4%'),\n",
       "  Text(0.5973688039357183, -0.05612942262672275, '1.1%'),\n",
       "  Text(0.5990043585231639, -0.034551099407297364, '0.0%'),\n",
       "  Text(0.5993011966825421, -0.028949536349878784, '0.3%'),\n",
       "  Text(0.5996127255442962, -0.021554103213551456, '0.1%'),\n",
       "  Text(0.599924213927195, -0.00953611785986126, '0.5%')])"
      ]
     },
     "execution_count": 19,
     "metadata": {},
     "output_type": "execute_result"
    },
    {
     "data": {
      "image/png": "[encoded data removed]",
      "text/plain": [
       "<Figure size 432x288 with 1 Axes>"
      ]
     },
     "metadata": {},
     "output_type": "display_data"
    }
   ],
   "source": [
    "plt.pie(store['CUST_PAY'], labels = store.index, autopct='%1.1f%%', shadow=True, startangle=0)"
   ]
  },
  {
   "cell_type": "markdown",
   "metadata": {},
   "source": [
    "vegetarian, own a car, prefer fresh/canned goods"
   ]
  },
  {
   "cell_type": "markdown",
   "metadata": {},
   "source": [
    "label income of unindentified families"
   ]
  },
  {
   "cell_type": "markdown",
   "metadata": {},
   "source": [
    "### ---------------------------------------------------------------------------------------------"
   ]
  },
  {
   "cell_type": "markdown",
   "metadata": {},
   "source": [
    "### Vegetarian or not"
   ]
  },
  {
   "cell_type": "code",
   "execution_count": 21,
   "metadata": {},
   "outputs": [
    {
     "data": {
      "text/plain": [
       "array(['GROCERY', 'MISC. TRANS.', 'PASTRY', 'DRUG GM', 'MEAT-PCKGD',\n",
       "       'SEAFOOD-PCKGD', 'PRODUCE', 'NUTRITION', 'DELI', 'COSMETICS',\n",
       "       'MEAT', 'FLORAL', 'TRAVEL & LEISUR', 'SEAFOOD', 'MISC SALES TRAN',\n",
       "       'SALAD BAR', 'KIOSK-GAS', 'ELECT &PLUMBING', 'GRO BAKERY',\n",
       "       'GM MERCH EXP', 'FROZEN GROCERY', 'COUP/STR & MFG', 'SPIRITS',\n",
       "       'GARDEN CENTER', 'TOYS', 'CHARITABLE CONT', 'RESTAURANT', 'RX',\n",
       "       'PROD-WHS SALES', 'MEAT-WHSE', 'DAIRY DELI', 'CHEF SHOPPE', 'HBC',\n",
       "       'DELI/SNACK BAR', 'PORK', 'AUTOMOTIVE', 'VIDEO RENTAL', ' ',\n",
       "       'CNTRL/STORE SUP', 'HOUSEWARES', 'POSTAL CENTER', 'PHOTO', 'VIDEO',\n",
       "       'PHARMACY SUPPLY'], dtype=object)"
      ]
     },
     "execution_count": 21,
     "metadata": {},
     "output_type": "execute_result"
    }
   ],
   "source": [
    "df1['DEPARTMENT'].unique()"
   ]
  },
  {
   "cell_type": "code",
   "execution_count": 8,
   "metadata": {},
   "outputs": [],
   "source": [
    "meat = ['MEAT', 'MEAT-PCKGD', 'SEAFOOD-PCKGD', 'SEAFOOD', 'PORK']\n",
    "produce = ['PRODUCE']\n",
    "meat_products = df1[df1['DEPARTMENT'].isin(meat)].index\n",
    "produce_products = df1[df1['DEPARTMENT'].isin(produce)].index"
   ]
  },
  {
   "cell_type": "code",
   "execution_count": 9,
   "metadata": {},
   "outputs": [],
   "source": [
    "df4['CUST_PAY'] = df4.apply(lambda row: calc_cust_price(row), axis=1)"
   ]
  },
  {
   "cell_type": "code",
   "execution_count": 10,
   "metadata": {},
   "outputs": [],
   "source": [
    "meat_tran = df4[df4['PRODUCT_ID'].isin(meat_products)]"
   ]
  },
  {
   "cell_type": "code",
   "execution_count": 11,
   "metadata": {},
   "outputs": [],
   "source": [
    "produce_tran = df4[df4['PRODUCT_ID'].isin(produce_products)]"
   ]
  },
  {
   "cell_type": "code",
   "execution_count": 12,
   "metadata": {},
   "outputs": [],
   "source": [
    "meat_tran = meat_tran.groupby('household_key').agg('sum').filter(['CUST_PAY']).rename(columns={'CUST_PAY':'meat'})\n",
    "produce_tran = produce_tran.groupby('household_key').agg('sum').filter(['CUST_PAY']).rename(columns={'CUST_PAY':'produce'})"
   ]
  },
  {
   "cell_type": "code",
   "execution_count": 13,
   "metadata": {},
   "outputs": [],
   "source": [
    "total_tran = df4.groupby('household_key').agg('sum').filter(['CUST_PAY']).rename(columns={'CUST_PAY':'total'})"
   ]
  },
  {
   "cell_type": "code",
   "execution_count": 14,
   "metadata": {},
   "outputs": [],
   "source": [
    "overall = meat_tran.join(produce_tran, how='outer').join(total_tran, how='outer')"
   ]
  },
  {
   "cell_type": "code",
   "execution_count": 15,
   "metadata": {},
   "outputs": [
    {
     "data": {
      "text/html": [
       "<div>\n",
       "<style scoped>\n",
       "    .dataframe tbody tr th:only-of-type {\n",
       "        vertical-align: middle;\n",
       "    }\n",
       "\n",
       "    .dataframe tbody tr th {\n",
       "        vertical-align: top;\n",
       "    }\n",
       "\n",
       "    .dataframe thead th {\n",
       "        text-align: right;\n",
       "    }\n",
       "</style>\n",
       "<table border=\"1\" class=\"dataframe\">\n",
       "  <thead>\n",
       "    <tr style=\"text-align: right;\">\n",
       "      <th></th>\n",
       "      <th>meat</th>\n",
       "      <th>produce</th>\n",
       "      <th>total</th>\n",
       "    </tr>\n",
       "    <tr>\n",
       "      <th>household_key</th>\n",
       "      <th></th>\n",
       "      <th></th>\n",
       "      <th></th>\n",
       "    </tr>\n",
       "  </thead>\n",
       "  <tbody>\n",
       "    <tr>\n",
       "      <td>1</td>\n",
       "      <td>345.00</td>\n",
       "      <td>266.10</td>\n",
       "      <td>4249.60</td>\n",
       "    </tr>\n",
       "    <tr>\n",
       "      <td>2</td>\n",
       "      <td>232.19</td>\n",
       "      <td>152.28</td>\n",
       "      <td>1945.34</td>\n",
       "    </tr>\n",
       "    <tr>\n",
       "      <td>3</td>\n",
       "      <td>578.97</td>\n",
       "      <td>66.38</td>\n",
       "      <td>2592.02</td>\n",
       "    </tr>\n",
       "    <tr>\n",
       "      <td>4</td>\n",
       "      <td>157.77</td>\n",
       "      <td>4.87</td>\n",
       "      <td>1197.61</td>\n",
       "    </tr>\n",
       "    <tr>\n",
       "      <td>5</td>\n",
       "      <td>120.77</td>\n",
       "      <td>2.19</td>\n",
       "      <td>779.06</td>\n",
       "    </tr>\n",
       "    <tr>\n",
       "      <td>...</td>\n",
       "      <td>...</td>\n",
       "      <td>...</td>\n",
       "      <td>...</td>\n",
       "    </tr>\n",
       "    <tr>\n",
       "      <td>2496</td>\n",
       "      <td>1367.96</td>\n",
       "      <td>239.10</td>\n",
       "      <td>4288.06</td>\n",
       "    </tr>\n",
       "    <tr>\n",
       "      <td>2497</td>\n",
       "      <td>1044.85</td>\n",
       "      <td>698.54</td>\n",
       "      <td>7095.14</td>\n",
       "    </tr>\n",
       "    <tr>\n",
       "      <td>2498</td>\n",
       "      <td>187.85</td>\n",
       "      <td>96.64</td>\n",
       "      <td>2601.60</td>\n",
       "    </tr>\n",
       "    <tr>\n",
       "      <td>2499</td>\n",
       "      <td>339.27</td>\n",
       "      <td>119.44</td>\n",
       "      <td>3390.52</td>\n",
       "    </tr>\n",
       "    <tr>\n",
       "      <td>2500</td>\n",
       "      <td>342.91</td>\n",
       "      <td>190.47</td>\n",
       "      <td>5389.55</td>\n",
       "    </tr>\n",
       "  </tbody>\n",
       "</table>\n",
       "<p>2500 rows × 3 columns</p>\n",
       "</div>"
      ],
      "text/plain": [
       "                  meat  produce    total\n",
       "household_key                           \n",
       "1               345.00   266.10  4249.60\n",
       "2               232.19   152.28  1945.34\n",
       "3               578.97    66.38  2592.02\n",
       "4               157.77     4.87  1197.61\n",
       "5               120.77     2.19   779.06\n",
       "...                ...      ...      ...\n",
       "2496           1367.96   239.10  4288.06\n",
       "2497           1044.85   698.54  7095.14\n",
       "2498            187.85    96.64  2601.60\n",
       "2499            339.27   119.44  3390.52\n",
       "2500            342.91   190.47  5389.55\n",
       "\n",
       "[2500 rows x 3 columns]"
      ]
     },
     "execution_count": 15,
     "metadata": {},
     "output_type": "execute_result"
    }
   ],
   "source": [
    "overall"
   ]
  },
  {
   "cell_type": "code",
   "execution_count": 16,
   "metadata": {},
   "outputs": [],
   "source": [
    "#overall['total'] = overall.apply(lambda row: row['meat']+row['produce'], axis=1)"
   ]
  },
  {
   "cell_type": "code",
   "execution_count": 17,
   "metadata": {},
   "outputs": [],
   "source": [
    "overall.fillna(0, inplace = True) "
   ]
  },
  {
   "cell_type": "code",
   "execution_count": 18,
   "metadata": {},
   "outputs": [],
   "source": [
    "overall['meat_frac'] = overall.apply(lambda row: row['meat']/row['total'], axis=1)\n",
    "overall['produce_frac'] = overall.apply(lambda row: row['produce']/row['total'], axis=1)"
   ]
  },
  {
   "cell_type": "code",
   "execution_count": null,
   "metadata": {},
   "outputs": [],
   "source": []
  },
  {
   "cell_type": "code",
   "execution_count": 19,
   "metadata": {},
   "outputs": [
    {
     "data": {
      "text/plain": [
       "<matplotlib.axes._subplots.AxesSubplot at 0x7f8cf85a1850>"
      ]
     },
     "execution_count": 19,
     "metadata": {},
     "output_type": "execute_result"
    },
    {
     "data": {
      "image/png": "[encoded data removed]",
      "text/plain": [
       "<Figure size 432x288 with 1 Axes>"
      ]
     },
     "metadata": {
      "needs_background": "light"
     },
     "output_type": "display_data"
    }
   ],
   "source": [
    "overall.plot.scatter(x='meat_frac', y='produce_frac', c='DarkBlue')"
   ]
  },
  {
   "cell_type": "code",
   "execution_count": 20,
   "metadata": {},
   "outputs": [],
   "source": [
    "temp = overall.filter(['meat_frac', 'produce_frac'])"
   ]
  },
  {
   "cell_type": "code",
   "execution_count": 21,
   "metadata": {},
   "outputs": [],
   "source": [
    "temp = temp.reset_index(drop=True)"
   ]
  },
  {
   "cell_type": "code",
   "execution_count": 22,
   "metadata": {},
   "outputs": [
    {
     "data": {
      "text/plain": [
       "<matplotlib.collections.PathCollection at 0x7f8cf436fcd0>"
      ]
     },
     "execution_count": 22,
     "metadata": {},
     "output_type": "execute_result"
    },
    {
     "data": {
      "image/png": "[encoded data removed]",
      "text/plain": [
       "<Figure size 576x576 with 1 Axes>"
      ]
     },
     "metadata": {
      "needs_background": "light"
     },
     "output_type": "display_data"
    }
   ],
   "source": [
    "from sklearn.cluster import KMeans\n",
    "plt.figure(figsize=(8, 8))\n",
    "y_pred = KMeans(n_clusters=3).fit_predict(temp)\n",
    "plt.scatter(temp['meat_frac'], temp['produce_frac'], c=y_pred)"
   ]
  },
  {
   "cell_type": "markdown",
   "metadata": {},
   "source": [
    "### Car owning"
   ]
  },
  {
   "cell_type": "code",
   "execution_count": 28,
   "metadata": {},
   "outputs": [],
   "source": [
    "fuel_prod = df1[df1['DEPARTMENT']=='KIOSK-GAS'].index\n",
    "\n",
    "df_fuel = df4.filter(['PRODUCT_ID', 'household_key', 'CUST_PAY'])\n",
    "\n",
    "df_fuel['FUEL'] = df_fuel['PRODUCT_ID'].isin(fuel_prod)\n",
    "\n",
    "df_fuel1 = df_fuel.groupby('household_key').agg('sum')"
   ]
  },
  {
   "cell_type": "code",
   "execution_count": 52,
   "metadata": {},
   "outputs": [
    {
     "data": {
      "text/html": [
       "<div>\n",
       "<style scoped>\n",
       "    .dataframe tbody tr th:only-of-type {\n",
       "        vertical-align: middle;\n",
       "    }\n",
       "\n",
       "    .dataframe tbody tr th {\n",
       "        vertical-align: top;\n",
       "    }\n",
       "\n",
       "    .dataframe thead th {\n",
       "        text-align: right;\n",
       "    }\n",
       "</style>\n",
       "<table border=\"1\" class=\"dataframe\">\n",
       "  <thead>\n",
       "    <tr style=\"text-align: right;\">\n",
       "      <th></th>\n",
       "      <th>PRODUCT_ID</th>\n",
       "      <th>CUST_PAY</th>\n",
       "      <th>FUEL</th>\n",
       "    </tr>\n",
       "    <tr>\n",
       "      <th>household_key</th>\n",
       "      <th></th>\n",
       "      <th></th>\n",
       "      <th></th>\n",
       "    </tr>\n",
       "  </thead>\n",
       "  <tbody>\n",
       "    <tr>\n",
       "      <td>1</td>\n",
       "      <td>5274477372</td>\n",
       "      <td>4249.60</td>\n",
       "      <td>0.0</td>\n",
       "    </tr>\n",
       "    <tr>\n",
       "      <td>2</td>\n",
       "      <td>2138870077</td>\n",
       "      <td>1945.34</td>\n",
       "      <td>0.0</td>\n",
       "    </tr>\n",
       "    <tr>\n",
       "      <td>3</td>\n",
       "      <td>2513054814</td>\n",
       "      <td>2592.02</td>\n",
       "      <td>1.0</td>\n",
       "    </tr>\n",
       "    <tr>\n",
       "      <td>4</td>\n",
       "      <td>813525920</td>\n",
       "      <td>1197.61</td>\n",
       "      <td>0.0</td>\n",
       "    </tr>\n",
       "    <tr>\n",
       "      <td>5</td>\n",
       "      <td>677228224</td>\n",
       "      <td>779.06</td>\n",
       "      <td>0.0</td>\n",
       "    </tr>\n",
       "    <tr>\n",
       "      <td>...</td>\n",
       "      <td>...</td>\n",
       "      <td>...</td>\n",
       "      <td>...</td>\n",
       "    </tr>\n",
       "    <tr>\n",
       "      <td>2496</td>\n",
       "      <td>4370564947</td>\n",
       "      <td>4288.06</td>\n",
       "      <td>15.0</td>\n",
       "    </tr>\n",
       "    <tr>\n",
       "      <td>2497</td>\n",
       "      <td>4613968170</td>\n",
       "      <td>7095.14</td>\n",
       "      <td>6.0</td>\n",
       "    </tr>\n",
       "    <tr>\n",
       "      <td>2498</td>\n",
       "      <td>2880739025</td>\n",
       "      <td>2601.60</td>\n",
       "      <td>0.0</td>\n",
       "    </tr>\n",
       "    <tr>\n",
       "      <td>2499</td>\n",
       "      <td>3153319765</td>\n",
       "      <td>3390.52</td>\n",
       "      <td>4.0</td>\n",
       "    </tr>\n",
       "    <tr>\n",
       "      <td>2500</td>\n",
       "      <td>5816593330</td>\n",
       "      <td>5389.55</td>\n",
       "      <td>13.0</td>\n",
       "    </tr>\n",
       "  </tbody>\n",
       "</table>\n",
       "<p>2500 rows × 3 columns</p>\n",
       "</div>"
      ],
      "text/plain": [
       "               PRODUCT_ID  CUST_PAY  FUEL\n",
       "household_key                            \n",
       "1              5274477372   4249.60   0.0\n",
       "2              2138870077   1945.34   0.0\n",
       "3              2513054814   2592.02   1.0\n",
       "4               813525920   1197.61   0.0\n",
       "5               677228224    779.06   0.0\n",
       "...                   ...       ...   ...\n",
       "2496           4370564947   4288.06  15.0\n",
       "2497           4613968170   7095.14   6.0\n",
       "2498           2880739025   2601.60   0.0\n",
       "2499           3153319765   3390.52   4.0\n",
       "2500           5816593330   5389.55  13.0\n",
       "\n",
       "[2500 rows x 3 columns]"
      ]
     },
     "execution_count": 52,
     "metadata": {},
     "output_type": "execute_result"
    }
   ],
   "source": [
    "df_fuel1"
   ]
  },
  {
   "cell_type": "code",
   "execution_count": 53,
   "metadata": {},
   "outputs": [],
   "source": [
    "y_pred = KMeans(n_clusters=3).fit_predict(df_fuel1.filter(['FUEL']))"
   ]
  },
  {
   "cell_type": "code",
   "execution_count": 55,
   "metadata": {},
   "outputs": [
    {
     "data": {
      "text/plain": [
       "<matplotlib.collections.PathCollection at 0x7f8cf43eb290>"
      ]
     },
     "execution_count": 55,
     "metadata": {},
     "output_type": "execute_result"
    },
    {
     "data": {
      "image/png": "[encoded data removed]",
      "text/plain": [
       "<Figure size 432x288 with 1 Axes>"
      ]
     },
     "metadata": {
      "needs_background": "light"
     },
     "output_type": "display_data"
    }
   ],
   "source": [
    "plt.scatter(range(2500),df_fuel1['FUEL'], c=y_pred)"
   ]
  },
  {
   "cell_type": "markdown",
   "metadata": {},
   "source": [
    "#### Own a car, rent a car, no car"
   ]
  },
  {
   "cell_type": "markdown",
   "metadata": {},
   "source": [
    "### Children"
   ]
  },
  {
   "cell_type": "code",
   "execution_count": 86,
   "metadata": {},
   "outputs": [],
   "source": [
    "child_subcomm = ['TRICYCLES/WAGONS/ETC', 'SEASONAL PRESHCOOL', 'OTHER PRESCHOOL','BABY DOLL ACCESSORIES',  \\\n",
    "                'BARBIE', 'PRESCHOOL TOYS', 'CHILDREN S ACTIVITY', '*BOYS/GIRLS MISC TOYS', 'SEASONAL BARBIE', \\\n",
    "                'CHILDREN S MUSICAL INSTRUMENTS', 'CHILDRENS LOW END', 'CHILDRENS  BOOKS']\n",
    "child_comm = ['PNT BTR/JELLY/JAMS', 'BABY HBC', 'BABY FOODS', 'INFANT CARE PRODUCTS', \\\n",
    "              'DIAPERS & DISPOSABLES', 'BABYFOOD']"
   ]
  },
  {
   "cell_type": "code",
   "execution_count": 92,
   "metadata": {},
   "outputs": [],
   "source": [
    "df_child_prod = df1[df1['COMMODITY_DESC'].isin(child_comm)]\n",
    "df_child_prod = df_child_prod.append(df1[df1['SUB_COMMODITY_DESC'].isin(child_subcomm)])\n",
    "df_child_prod = df_child_prod.index"
   ]
  },
  {
   "cell_type": "code",
   "execution_count": 103,
   "metadata": {},
   "outputs": [],
   "source": [
    "child_tran = df4[df4['PRODUCT_ID'].isin(df_child_prod)]"
   ]
  },
  {
   "cell_type": "code",
   "execution_count": 106,
   "metadata": {},
   "outputs": [],
   "source": [
    "child_tran = child_tran.groupby('household_key').count().\\\n",
    "                filter(['BASKET_ID']).\\\n",
    "                rename(columns={'BASKET_ID':'num_tran'}).\\\n",
    "                sort_values('num_tran', ascending=False)"
   ]
  },
  {
   "cell_type": "code",
   "execution_count": 142,
   "metadata": {},
   "outputs": [
    {
     "data": {
      "text/plain": [
       "[<matplotlib.lines.Line2D at 0x7f8ceb488310>]"
      ]
     },
     "execution_count": 142,
     "metadata": {},
     "output_type": "execute_result"
    },
    {
     "data": {
      "image/png": "[encoded data removed]",
      "text/plain": [
       "<Figure size 432x288 with 1 Axes>"
      ]
     },
     "metadata": {
      "needs_background": "light"
     },
     "output_type": "display_data"
    }
   ],
   "source": [
    "plt.plot(child_tran['num_tran'].tolist())"
   ]
  },
  {
   "cell_type": "code",
   "execution_count": 119,
   "metadata": {},
   "outputs": [],
   "source": [
    "child_tran1 = child_tran.join(df5.set_index('household_key'), how='right').\\\n",
    "                filter(['num_tran', 'KID_CATEGORY_DESC'])"
   ]
  },
  {
   "cell_type": "code",
   "execution_count": 124,
   "metadata": {},
   "outputs": [
    {
     "data": {
      "text/html": [
       "<div>\n",
       "<style scoped>\n",
       "    .dataframe tbody tr th:only-of-type {\n",
       "        vertical-align: middle;\n",
       "    }\n",
       "\n",
       "    .dataframe tbody tr th {\n",
       "        vertical-align: top;\n",
       "    }\n",
       "\n",
       "    .dataframe thead th {\n",
       "        text-align: right;\n",
       "    }\n",
       "</style>\n",
       "<table border=\"1\" class=\"dataframe\">\n",
       "  <thead>\n",
       "    <tr style=\"text-align: right;\">\n",
       "      <th></th>\n",
       "      <th>num_tran</th>\n",
       "      <th>KID_CATEGORY_DESC</th>\n",
       "    </tr>\n",
       "    <tr>\n",
       "      <th>household_key</th>\n",
       "      <th></th>\n",
       "      <th></th>\n",
       "    </tr>\n",
       "  </thead>\n",
       "  <tbody>\n",
       "    <tr>\n",
       "      <td>1</td>\n",
       "      <td>21.0</td>\n",
       "      <td>None/Unknown</td>\n",
       "    </tr>\n",
       "    <tr>\n",
       "      <td>7</td>\n",
       "      <td>108.0</td>\n",
       "      <td>None/Unknown</td>\n",
       "    </tr>\n",
       "    <tr>\n",
       "      <td>8</td>\n",
       "      <td>60.0</td>\n",
       "      <td>1</td>\n",
       "    </tr>\n",
       "    <tr>\n",
       "      <td>13</td>\n",
       "      <td>130.0</td>\n",
       "      <td>2</td>\n",
       "    </tr>\n",
       "    <tr>\n",
       "      <td>16</td>\n",
       "      <td>10.0</td>\n",
       "      <td>None/Unknown</td>\n",
       "    </tr>\n",
       "    <tr>\n",
       "      <td>...</td>\n",
       "      <td>...</td>\n",
       "      <td>...</td>\n",
       "    </tr>\n",
       "    <tr>\n",
       "      <td>2494</td>\n",
       "      <td>5.0</td>\n",
       "      <td>None/Unknown</td>\n",
       "    </tr>\n",
       "    <tr>\n",
       "      <td>2496</td>\n",
       "      <td>73.0</td>\n",
       "      <td>1</td>\n",
       "    </tr>\n",
       "    <tr>\n",
       "      <td>2497</td>\n",
       "      <td>13.0</td>\n",
       "      <td>None/Unknown</td>\n",
       "    </tr>\n",
       "    <tr>\n",
       "      <td>2498</td>\n",
       "      <td>2.0</td>\n",
       "      <td>None/Unknown</td>\n",
       "    </tr>\n",
       "    <tr>\n",
       "      <td>2499</td>\n",
       "      <td>8.0</td>\n",
       "      <td>1</td>\n",
       "    </tr>\n",
       "  </tbody>\n",
       "</table>\n",
       "<p>801 rows × 2 columns</p>\n",
       "</div>"
      ],
      "text/plain": [
       "               num_tran KID_CATEGORY_DESC\n",
       "household_key                            \n",
       "1                  21.0      None/Unknown\n",
       "7                 108.0      None/Unknown\n",
       "8                  60.0                 1\n",
       "13                130.0                 2\n",
       "16                 10.0      None/Unknown\n",
       "...                 ...               ...\n",
       "2494                5.0      None/Unknown\n",
       "2496               73.0                 1\n",
       "2497               13.0      None/Unknown\n",
       "2498                2.0      None/Unknown\n",
       "2499                8.0                 1\n",
       "\n",
       "[801 rows x 2 columns]"
      ]
     },
     "execution_count": 124,
     "metadata": {},
     "output_type": "execute_result"
    }
   ],
   "source": [
    "child_tran1"
   ]
  },
  {
   "cell_type": "code",
   "execution_count": 126,
   "metadata": {},
   "outputs": [
    {
     "data": {
      "text/plain": [
       "array(['None/Unknown', '1', '2', '3+'], dtype=object)"
      ]
     },
     "execution_count": 126,
     "metadata": {},
     "output_type": "execute_result"
    }
   ],
   "source": [
    "child_tran1['KID_CATEGORY_DESC'].unique()"
   ]
  },
  {
   "cell_type": "code",
   "execution_count": 128,
   "metadata": {},
   "outputs": [],
   "source": [
    "templ = child_tran1['KID_CATEGORY_DESC'].tolist()"
   ]
  },
  {
   "cell_type": "code",
   "execution_count": 133,
   "metadata": {},
   "outputs": [],
   "source": [
    "dict = {'None/Unknown':0, '1':1, '2':2, '3+':3}"
   ]
  },
  {
   "cell_type": "code",
   "execution_count": 135,
   "metadata": {},
   "outputs": [],
   "source": [
    "col = [dict[i] for i in templ]"
   ]
  },
  {
   "cell_type": "code",
   "execution_count": 140,
   "metadata": {},
   "outputs": [
    {
     "data": {
      "text/plain": [
       "<matplotlib.collections.PathCollection at 0x7f8ceb9dc610>"
      ]
     },
     "execution_count": 140,
     "metadata": {},
     "output_type": "execute_result"
    },
    {
     "data": {
      "image/png": "[encoded data removed]",
      "text/plain": [
       "<Figure size 432x288 with 1 Axes>"
      ]
     },
     "metadata": {
      "needs_background": "light"
     },
     "output_type": "display_data"
    }
   ],
   "source": [
    "fig, ax = plt.subplots()\n",
    "ax.scatter(range(801),child_tran1['num_tran'], c=col, label=col)\n",
    "#ax.legend()"
   ]
  },
  {
   "cell_type": "markdown",
   "metadata": {},
   "source": [
    "### Halloween"
   ]
  },
  {
   "cell_type": "code",
   "execution_count": 146,
   "metadata": {},
   "outputs": [],
   "source": [
    "halloween_prod = df1[df1['COMMODITY_DESC']=='HALLOWEEN'].index"
   ]
  },
  {
   "cell_type": "code",
   "execution_count": 159,
   "metadata": {},
   "outputs": [],
   "source": [
    "week_wise_sales = df4[df4['PRODUCT_ID'].isin(halloween_prod)].\\\n",
    "                filter(['WEEK_NO', 'SALES_VALUE']).\\\n",
    "                groupby('WEEK_NO').agg('sum')"
   ]
  },
  {
   "cell_type": "code",
   "execution_count": 161,
   "metadata": {},
   "outputs": [
    {
     "data": {
      "text/plain": [
       "<matplotlib.axes._subplots.AxesSubplot at 0x7f8ce95ae890>"
      ]
     },
     "execution_count": 161,
     "metadata": {},
     "output_type": "execute_result"
    },
    {
     "data": {
      "image/png": "[encoded data removed]",
      "text/plain": [
       "<Figure size 432x288 with 1 Axes>"
      ]
     },
     "metadata": {
      "needs_background": "light"
     },
     "output_type": "display_data"
    }
   ],
   "source": [
    "week_wise_sales.plot(y='SALES_VALUE')"
   ]
  },
  {
   "cell_type": "markdown",
   "metadata": {},
   "source": [
    "### Organic "
   ]
  },
  {
   "cell_type": "code",
   "execution_count": 168,
   "metadata": {
    "scrolled": false
   },
   "outputs": [
    {
     "data": {
      "text/plain": [
       "<matplotlib.axes._subplots.AxesSubplot at 0x7f8ce94bf450>"
      ]
     },
     "execution_count": 168,
     "metadata": {},
     "output_type": "execute_result"
    },
    {
     "data": {
      "image/png": "[encoded data removed]",
      "text/plain": [
       "<Figure size 432x288 with 1 Axes>"
      ]
     },
     "metadata": {
      "needs_background": "light"
     },
     "output_type": "display_data"
    }
   ],
   "source": [
    "df_organic = df1[df1['COMMODITY_DESC']=='ORGANICS FRUIT & VEGETABLES'].index.tolist()\n",
    "sales_h = df4[df4['PRODUCT_ID'].isin(df_organic)].\\\n",
    "            groupby('household_key').\\\n",
    "            agg('sum').\\\n",
    "            reset_index()\\\n",
    "            [['household_key','CUST_PAY']].\\\n",
    "            set_index('household_key')\n",
    "df5.set_index('household_key').join(sales_h, how='left')[['INCOME_DESC','CUST_PAY']].\\\n",
    "            reset_index().\\\n",
    "            groupby('INCOME_DESC').\\\n",
    "            agg('mean').\\\n",
    "            reset_index().replace({'Under 15K': 1, '15-24K' : 2, '25-34K': 3, '35-49K' : 4, '50-74K' : 5, '75-99K' : 6, '100-124K' : 7, '125-149K' : 8, '150-174K' : 9, '175-199K' : 10, '200-249K' : 11, '250K+' : 12})\\\n",
    "            .sort_values('INCOME_DESC')\\\n",
    "            .set_index('INCOME_DESC')['CUST_PAY'].plot(kind='bar')"
   ]
  }
 ],
 "metadata": {
  "kernelspec": {
   "display_name": "Python 3",
   "language": "python",
   "name": "python3"
  },
  "language_info": {
   "codemirror_mode": {
    "name": "ipython",
    "version": 3
   },
   "file_extension": ".py",
   "mimetype": "text/x-python",
   "name": "python",
   "nbconvert_exporter": "python",
   "pygments_lexer": "ipython3",
   "version": "3.7.4"
  }
 },
 "nbformat": 4,
 "nbformat_minor": 2
}
